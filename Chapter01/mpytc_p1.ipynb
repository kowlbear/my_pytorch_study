{
 "cells": [
  {
   "cell_type": "markdown",
   "metadata": {},
   "source": [
    "## 딥러닝\n",
    "컴퓨터/머신이 실제 현싱에서 인식 작업을 수행하는 방법을 혁신해온 머신러닝 기법 중 하나\n",
    "\n",
    "## 딥러닝 모델\n",
    "신경망은 인간의 뇌 구조와 기능에서 영감을 받아 만들어진 머신러닝의 한 분야\n",
    "신경망에서 뉴런(각 연산단위)이 층(layer)을 이뤄 다른 뉴런과 연결\n",
    "층이 2개 이상일 때 심층신경망(deep neural network)이라고 부름\n",
    "\n",
    "## 딥러닝이 각광받는 이유\n",
    "\n",
    "- 강력한 연산 능력을 갖춘 머신을 활용할 수 있게 됨(특히, 클라우드 환경에서)\n",
    "- 막대한 양의 데이터를 활용할 수 있게 되었다"
   ]
  },
  {
   "cell_type": "markdown",
   "metadata": {},
   "source": [
    "### 파이토치와 텐서플로의 차이\n",
    "파이토치: 페이스북(메타) 개발, 즉시실행(eager execution) 그래프 생성하지 않고 생성, 명령형 프로그래밍 모드-> 흐름 직관적 파악 가능, 디버깅이 쉬움, \n",
    "텐서플로: 구글 개발, 그래프기반 지연실행(graph-baseed deferred execution)- 지금은 즉시실행 모드를 지원함"
   ]
  },
  {
   "cell_type": "code",
   "execution_count": 1,
   "metadata": {},
   "outputs": [],
   "source": [
    "import math\n",
    "import torch\n",
    "\n",
    "# 이 단위 계층 신경망의 입력값은 256차원, 출력은 4차원으로 가정\n",
    "# 따라서 랜덤값으로 채워진 256x4 행렬을 초기화한다\n",
    "weight = torch.randn(256,4) /math.sqrt(256)\n",
    "\n",
    "# 가중치를 훈련 가능하게, 즉 256x4 행렬의 숫자가 경사 역전파를 통해 조정될 수 있게 만든다.\n",
    "weight.requires_grad_()\n",
    "\n",
    "# 4 차원 출력을 위한 편향값을 더하고 이 편향값도 훈련 가능하게 설정한다\n",
    "bias = torch.zeros(4, requires_grad=True)\n"
   ]
  },
  {
   "cell_type": "code",
   "execution_count": null,
   "metadata": {},
   "outputs": [],
   "source": [
    "# 신경망함수\n",
    "import torch.nn.functional as F\n",
    "\n",
    "loss_func = F.cross_entropy \n",
    "loss = loss_func(model(X),y) # x는 입력, y는 타깃출력, 모델은 신경망 모델"
   ]
  },
  {
   "cell_type": "code",
   "execution_count": null,
   "metadata": {},
   "outputs": [],
   "source": [
    "# 최적화\n",
    "import torch.optim as optim\n",
    "# 옵티마이저 정의\n",
    "opt = optim.SGD(model.parameters(), lr=lr)"
   ]
  },
  {
   "cell_type": "code",
   "execution_count": null,
   "metadata": {},
   "outputs": [],
   "source": [
    "# 최적화 단계 방법 1\n",
    "with torch.no_grad():\n",
    "# 확률적 경사 하강법을 사용해 매개변수 업데이트를 적용\n",
    "    for param in model.parameters(): param -= param.grad * lr\n",
    "    model.zero_grad()"
   ]
  },
  {
   "cell_type": "code",
   "execution_count": null,
   "metadata": {},
   "outputs": [],
   "source": [
    "# 최적화 단계 방법 2\n",
    "opt.step()\n",
    "opt.zero_grad()"
   ]
  },
  {
   "cell_type": "code",
   "execution_count": null,
   "metadata": {},
   "outputs": [],
   "source": [
    "# utils\n",
    "from torch.utils.data import (TensorDataset, DataLoader)\n",
    "train_dataset = TensorDataset(x_train, y_train)\n",
    "train_dataloader = DataLoader(train_dataset, batch_size=bs)"
   ]
  },
  {
   "cell_type": "code",
   "execution_count": null,
   "metadata": {},
   "outputs": [],
   "source": [
    "# 이터레이션 방법 1\n",
    "for i in range((n-1) // bs + 1):\n",
    "    x_batch = x_train[start_i:end_i]\n",
    "    y_batch = y_train[start_i:end_i]\n",
    "    pred = model(x_batch)"
   ]
  },
  {
   "cell_type": "code",
   "execution_count": null,
   "metadata": {},
   "outputs": [],
   "source": [
    "# 이터레이션 방법 2 \n",
    "for x_batch, y_batch in train_dataloader:\n",
    "    pred = model(x_batch)"
   ]
  },
  {
   "cell_type": "code",
   "execution_count": 5,
   "metadata": {},
   "outputs": [
    {
     "data": {
      "text/plain": [
       "torch.Size([6])"
      ]
     },
     "execution_count": 5,
     "metadata": {},
     "output_type": "execute_result"
    }
   ],
   "source": [
    "# 텐서 모듈 인스턴스화\n",
    "points = torch.tensor([1.0,4.0,2.0,1.0,3.0,5.0])\n",
    "\n",
    "float(points[0])# 첫번째 항목 가져오기\n",
    "points.shape # 텐서 모양 확인"
   ]
  },
  {
   "cell_type": "code",
   "execution_count": 6,
   "metadata": {},
   "outputs": [
    {
     "data": {
      "text/plain": [
       " 1.0\n",
       " 4.0\n",
       " 2.0\n",
       " 1.0\n",
       " 3.0\n",
       " 5.0\n",
       "[torch.FloatStorage of size 6]"
      ]
     },
     "execution_count": 6,
     "metadata": {},
     "output_type": "execute_result"
    }
   ],
   "source": [
    "# 스토리지 확인\n",
    "points = torch.tensor([[1.0,4.0],[2.0,1.0],[3.0,5.0]])\n",
    "points.storage()"
   ]
  },
  {
   "cell_type": "code",
   "execution_count": 7,
   "metadata": {},
   "outputs": [
    {
     "data": {
      "text/plain": [
       "torch.Size([3, 2])"
      ]
     },
     "execution_count": 7,
     "metadata": {},
     "output_type": "execute_result"
    }
   ],
   "source": [
    "# 텐서 크기 확인\n",
    "points.size()"
   ]
  },
  {
   "cell_type": "code",
   "execution_count": 8,
   "metadata": {},
   "outputs": [
    {
     "data": {
      "text/plain": [
       "0"
      ]
     },
     "execution_count": 8,
     "metadata": {},
     "output_type": "execute_result"
    }
   ],
   "source": [
    "#오프셋 확인\n",
    "points.storage_offset()"
   ]
  },
  {
   "cell_type": "code",
   "execution_count": 9,
   "metadata": {},
   "outputs": [
    {
     "data": {
      "text/plain": [
       "2"
      ]
     },
     "execution_count": 9,
     "metadata": {},
     "output_type": "execute_result"
    }
   ],
   "source": [
    "points[1].storage_offset()"
   ]
  },
  {
   "cell_type": "code",
   "execution_count": 10,
   "metadata": {},
   "outputs": [
    {
     "data": {
      "text/plain": [
       "(2, 1)"
      ]
     },
     "execution_count": 10,
     "metadata": {},
     "output_type": "execute_result"
    }
   ],
   "source": [
    "# 텐서 보폭(stride) 확인\n",
    "points.stride()\n",
    "# 각 차원 마다의 다음 요소에 접근하기 위하여 건너뛰어야 할 개수"
   ]
  },
  {
   "cell_type": "code",
   "execution_count": 12,
   "metadata": {},
   "outputs": [],
   "source": [
    "# 텐서 사용 데이터 타입 지정\n",
    "points = torch.tensor([[1.0,2.0],[3.0,4.0]], dtype=torch.float32)"
   ]
  },
  {
   "cell_type": "code",
   "execution_count": null,
   "metadata": {},
   "outputs": [],
   "source": [
    "# 저장 장치 지정도 가능, cpu가 기본값 -> 현재 파이토치는 CUDA를 지원하는 GPU만 지원한다\n",
    "points = torch.tensor([[1.0,2.0],[3.0,4.0]], dtype=torch.float32, device='cpu')"
   ]
  },
  {
   "cell_type": "code",
   "execution_count": null,
   "metadata": {},
   "outputs": [],
   "source": [
    "# gpu에 사본 생성 가능\n",
    "points_2 = torch.to(device='cuda')"
   ]
  },
  {
   "cell_type": "code",
   "execution_count": null,
   "metadata": {},
   "outputs": [],
   "source": [
    "# GPU가 여러개 있을 때, 인덱스를 활용해 특정 GPU로 지정 가능\n",
    "points_3 = points.to(device='cuda:0')"
   ]
  }
 ],
 "metadata": {
  "kernelspec": {
   "display_name": "mpytc",
   "language": "python",
   "name": "python3"
  },
  "language_info": {
   "codemirror_mode": {
    "name": "ipython",
    "version": 3
   },
   "file_extension": ".py",
   "mimetype": "text/x-python",
   "name": "python",
   "nbconvert_exporter": "python",
   "pygments_lexer": "ipython3",
   "version": "3.7.16"
  },
  "orig_nbformat": 4
 },
 "nbformat": 4,
 "nbformat_minor": 2
}
